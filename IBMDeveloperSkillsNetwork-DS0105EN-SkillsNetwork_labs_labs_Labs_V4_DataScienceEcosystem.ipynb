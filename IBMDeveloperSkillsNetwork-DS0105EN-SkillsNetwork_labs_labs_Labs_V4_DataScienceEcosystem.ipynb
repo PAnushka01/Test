{
  "metadata": {
    "language_info": {
      "codemirror_mode": {
        "name": "python",
        "version": 3
      },
      "file_extension": ".py",
      "mimetype": "text/x-python",
      "name": "python",
      "nbconvert_exporter": "python",
      "pygments_lexer": "ipython3",
      "version": "3.8"
    },
    "kernelspec": {
      "name": "python",
      "display_name": "Pyolite",
      "language": "python"
    }
  },
  "nbformat_minor": 4,
  "nbformat": 4,
  "cells": [
    {
      "cell_type": "markdown",
      "source": "# Data Science Tools and Ecosystem ",
      "metadata": {}
    },
    {
      "cell_type": "markdown",
      "source": "In this notebook, Data Science Tools and Ecosystem are summarized.",
      "metadata": {}
    },
    {
      "cell_type": "markdown",
      "source": "**Objectives :**  \n- Popular languages for Data Science\n- Commonly used libraries by Data Scientist.\n- Tools for Data Science.\n- Examples for evaluating arithmetic expressions.",
      "metadata": {}
    },
    {
      "cell_type": "markdown",
      "source": "Some of the popular languages that Data Scientists use are:\n1. R\n2. Python\n3. Java \n4. SQL\n5. Julia\n6. Scala\n7. Matlab",
      "metadata": {}
    },
    {
      "cell_type": "markdown",
      "source": "Some of the commonly used libraries used by Data Scientists include:\n1. TensorFlow\n2. NumPy\n3. SciPy\n4. Pandas\n5. Matplotlib\n6. Scikit-Learn\n7. PyTorch|",
      "metadata": {}
    },
    {
      "cell_type": "markdown",
      "source": "Data Science Tools are:\n|Data Science Tools|\n|------------------|\n|R Studio|\n|Apache Spark|\n|Tensor Flow|",
      "metadata": {}
    },
    {
      "cell_type": "markdown",
      "source": "### Below are a few examples of evaluating arithmetic expressions in Python\n1. 5 -- is already evaluated, its value is 5.\n2. (13-4) -- evaluates to 9.\n3. (7+3) -- evaluates to 10.\n4. (2*8) -- evaluates to 16.\n5. 6*(8-1) -- evaluates to 42.",
      "metadata": {}
    },
    {
      "cell_type": "code",
      "source": "# This a simple arithmetic expression to mutiply then add integers\n(3*4)+5",
      "metadata": {
        "trusted": true
      },
      "execution_count": 1,
      "outputs": [
        {
          "execution_count": 1,
          "output_type": "execute_result",
          "data": {
            "text/plain": "17"
          },
          "metadata": {}
        }
      ]
    },
    {
      "cell_type": "code",
      "source": "# This will convert 200 minutes to hours by diving by 60\n200//60",
      "metadata": {
        "trusted": true
      },
      "execution_count": 2,
      "outputs": [
        {
          "execution_count": 2,
          "output_type": "execute_result",
          "data": {
            "text/plain": "3"
          },
          "metadata": {}
        }
      ]
    },
    {
      "cell_type": "markdown",
      "source": "## Author ##\nAnushka Pargaonkar",
      "metadata": {}
    }
  ]
}